{
 "cells": [
  {
   "cell_type": "code",
   "execution_count": 25,
   "id": "e0f915de",
   "metadata": {},
   "outputs": [],
   "source": [
    "import lightgbm as lgb\n",
    "import pandas as pd\n",
    "import numpy as np"
   ]
  },
  {
   "cell_type": "code",
   "execution_count": 26,
   "id": "a09fcb2e",
   "metadata": {},
   "outputs": [],
   "source": [
    "from sklearn.model_selection import train_test_split"
   ]
  },
  {
   "cell_type": "code",
   "execution_count": 97,
   "id": "cde3ade1",
   "metadata": {},
   "outputs": [],
   "source": [
    "\"From kaggle competition evaluation metrix\"\n",
    "def amex_metric(y_true: pd.DataFrame, y_pred: pd.DataFrame) -> float:\n",
    "\n",
    "    def top_four_percent_captured(y_true: pd.DataFrame, y_pred: pd.DataFrame) -> float:\n",
    "        df = (pd.concat([y_true, y_pred], axis='columns')\n",
    "              .sort_values('prediction', ascending=False))\n",
    "        df['weight'] = df['target'].apply(lambda x: 20 if x==0 else 1)\n",
    "        four_pct_cutoff = int(0.04 * df['weight'].sum())\n",
    "        df['weight_cumsum'] = df['weight'].cumsum()\n",
    "        df_cutoff = df.loc[df['weight_cumsum'] <= four_pct_cutoff]\n",
    "        return (df_cutoff['target'] == 1).sum() / (df['target'] == 1).sum()\n",
    "        \n",
    "    def weighted_gini(y_true: pd.DataFrame, y_pred: pd.DataFrame) -> float:\n",
    "        df = (pd.concat([y_true, y_pred], axis='columns')\n",
    "              .sort_values('prediction', ascending=False))\n",
    "        df['weight'] = df['target'].apply(lambda x: 20 if x==0 else 1)\n",
    "        df['random'] = (df['weight'] / df['weight'].sum()).cumsum()\n",
    "        total_pos = (df['target'] * df['weight']).sum()\n",
    "        df['cum_pos_found'] = (df['target'] * df['weight']).cumsum()\n",
    "        df['lorentz'] = df['cum_pos_found'] / total_pos\n",
    "        df['gini'] = (df['lorentz'] - df['random']) * df['weight']\n",
    "        return df['gini'].sum()\n",
    "\n",
    "    def normalized_weighted_gini(y_true: pd.DataFrame, y_pred: pd.DataFrame) -> float:\n",
    "        y_true_pred = y_true.rename(columns={'target': 'prediction'})\n",
    "        return weighted_gini(y_true, y_pred) / weighted_gini(y_true, y_true_pred)\n",
    "\n",
    "    g = normalized_weighted_gini(y_true, y_pred)\n",
    "    d = top_four_percent_captured(y_true, y_pred)\n",
    "\n",
    "    return 0.5 * (g + d),g,d"
   ]
  },
  {
   "cell_type": "code",
   "execution_count": 121,
   "id": "42057373",
   "metadata": {},
   "outputs": [],
   "source": [
    "final_data=pd.read_csv('Final_Data.csv')\n",
    "req=final_data.columns\n",
    "req=req[1:-1]\n",
    "target=final_data['target']\n",
    "data_x=final_data[req]\n",
    "train_x,test_x,train_y,test_y=train_test_split(data_x,target,test_size=0.2,shuffle=True)"
   ]
  },
  {
   "cell_type": "code",
   "execution_count": 105,
   "id": "9e439953",
   "metadata": {},
   "outputs": [],
   "source": [
    "from sklearn.metrics import accuracy_score,precision_recall_fscore_support,roc_curve,auc,roc_auc_score"
   ]
  },
  {
   "cell_type": "code",
   "execution_count": 122,
   "id": "28536905",
   "metadata": {},
   "outputs": [],
   "source": [
    "light=lgb.LGBMClassifier(learning_rate=0.03, reg_lambda=50,\n",
    "                          min_child_samples=2400,\n",
    "                          num_leaves=94,\n",
    "                          colsample_bytree=0.19,\n",
    "                          max_bins=517, random_state=1)"
   ]
  },
  {
   "cell_type": "code",
   "execution_count": 123,
   "id": "e21aa557",
   "metadata": {},
   "outputs": [
    {
     "data": {
      "text/plain": [
       "GridSearchCV(estimator=LGBMClassifier(colsample_bytree=0.19, learning_rate=0.03,\n",
       "                                      max_bins=517, min_child_samples=2400,\n",
       "                                      num_leaves=94, random_state=1,\n",
       "                                      reg_lambda=50),\n",
       "             param_grid={'max_depth': [4, 5, 6, 8],\n",
       "                         'n_estimators': [500, 800, 1000, 1200]})"
      ]
     },
     "execution_count": 123,
     "metadata": {},
     "output_type": "execute_result"
    }
   ],
   "source": [
    "from sklearn.model_selection import GridSearchCV\n",
    "params = {\n",
    "    'max_depth': [4,5,6,8],\n",
    "    'n_estimators': [500,800,1000,1200]\n",
    "}\n",
    "best_param=GridSearchCV(estimator=light,\n",
    "                       param_grid=params)\n",
    "best_param.fit(train_x,train_y)"
   ]
  },
  {
   "cell_type": "code",
   "execution_count": 127,
   "id": "9be87dfc",
   "metadata": {},
   "outputs": [],
   "source": [
    "best_param=best_param.best_estimator_"
   ]
  },
  {
   "cell_type": "code",
   "execution_count": 120,
   "id": "809afe92",
   "metadata": {},
   "outputs": [
    {
     "name": "stdout",
     "output_type": "stream",
     "text": [
      "LGBMClassifier(colsample_bytree=0.19, learning_rate=0.03, max_bins=517,\n",
      "               max_depth=5, min_child_samples=2400, n_estimators=1000,\n",
      "               num_leaves=94, random_state=1, reg_lambda=50)\n"
     ]
    }
   ],
   "source": [
    "print(best_param)"
   ]
  },
  {
   "cell_type": "code",
   "execution_count": 128,
   "id": "a1ba1003",
   "metadata": {},
   "outputs": [
    {
     "data": {
      "text/plain": [
       "LGBMClassifier(colsample_bytree=0.19, learning_rate=0.03, max_bins=517,\n",
       "               max_depth=6, min_child_samples=2400, n_estimators=1200,\n",
       "               num_leaves=94, random_state=1, reg_lambda=50)"
      ]
     },
     "execution_count": 128,
     "metadata": {},
     "output_type": "execute_result"
    }
   ],
   "source": [
    "best_param.fit(train_x,train_y)"
   ]
  },
  {
   "cell_type": "code",
   "execution_count": 110,
   "id": "72da7bc2",
   "metadata": {},
   "outputs": [],
   "source": [
    "import matplotlib.pyplot as plt"
   ]
  },
  {
   "cell_type": "code",
   "execution_count": 129,
   "id": "dde784e8",
   "metadata": {},
   "outputs": [
    {
     "name": "stdout",
     "output_type": "stream",
     "text": [
      "The Accuracy Score is 0.8712022460643738\n",
      "The Precision is 0.731682769726248\n",
      "The recall is 0.746253336070622\n",
      "The f1 score is 0.7388962292915947\n",
      "The area under curve 0.9314196008256805\n"
     ]
    },
    {
     "data": {
      "text/plain": [
       "Text(0.5, 1.0, 'ROC Curve')"
      ]
     },
     "execution_count": 129,
     "metadata": {},
     "output_type": "execute_result"
    },
    {
     "data": {
      "image/png": "[encoded data removed]",
      "text/plain": [
       "<Figure size 640x480 with 1 Axes>"
      ]
     },
     "metadata": {},
     "output_type": "display_data"
    }
   ],
   "source": [
    "print(\"The Accuracy Score is {}\".format(accuracy_score(best_param.predict(test_x),test_y)))\n",
    "pre_recall_f1=precision_recall_fscore_support(test_y,best_param.predict(test_x),average='binary')\n",
    "print(\"The Precision is {}\".format(pre_recall_f1[0]))\n",
    "print(\"The recall is {}\".format(pre_recall_f1[1]))\n",
    "print(\"The f1 score is {}\".format(pre_recall_f1[2]))\n",
    "pred_proba_y=best_param.predict_proba(test_x)\n",
    "fpr, tpr, thresholds_roc = roc_curve(test_y,pred_proba_y[:,1])\n",
    "roc_auc = auc(fpr,tpr)\n",
    "print(\"The area under curve {}\".format(roc_auc))\n",
    "plt.plot(fpr,tpr)\n",
    "plt.xlabel(\"False Positive Rate\")\n",
    "plt.ylabel(\"True Positive Rate\")\n",
    "plt.title(\"ROC Curve\")"
   ]
  },
  {
   "cell_type": "code",
   "execution_count": 130,
   "id": "a04a19bf",
   "metadata": {},
   "outputs": [
    {
     "name": "stderr",
     "output_type": "stream",
     "text": [
      "C:\\Users\\Devansh\\anaconda3\\lib\\site-packages\\sklearn\\utils\\deprecation.py:87: FutureWarning: Function plot_confusion_matrix is deprecated; Function `plot_confusion_matrix` is deprecated in 1.0 and will be removed in 1.2. Use one of the class methods: ConfusionMatrixDisplay.from_predictions or ConfusionMatrixDisplay.from_estimator.\n",
      "  warnings.warn(msg, category=FutureWarning)\n"
     ]
    },
    {
     "data": {
      "image/png": "[encoded data removed]",
      "text/plain": [
       "<Figure size 640x480 with 2 Axes>"
      ]
     },
     "metadata": {},
     "output_type": "display_data"
    }
   ],
   "source": [
    "from sklearn.metrics import confusion_matrix\n",
    "from sklearn.metrics import plot_confusion_matrix\n",
    "confusion_matrix(test_y,best_param.predict(test_x))\n",
    "m=plot_confusion_matrix(best_param,test_x,test_y, cmap=plt.cm.Blues)\n",
    "plt.show()"
   ]
  },
  {
   "cell_type": "code",
   "execution_count": 131,
   "id": "3a102d43",
   "metadata": {},
   "outputs": [],
   "source": [
    "test_y_num=np.array(test_y)\n",
    "df=pd.DataFrame(test_y_num,columns=['target'])\n",
    "df2=pd.DataFrame(pred_proba_y[:,1],columns=['prediction'])"
   ]
  },
  {
   "cell_type": "code",
   "execution_count": 132,
   "id": "e4bfaa77",
   "metadata": {},
   "outputs": [
    {
     "name": "stdout",
     "output_type": "stream",
     "text": [
      "Gini coefficient 0.8628306949167194\n",
      "Top 4% capture 0.4744405666187641\n",
      "Final eval metric 0.6686356307677417\n"
     ]
    }
   ],
   "source": [
    "gd,g,d=amex_metric(df,df2)\n",
    "print(\"Gini coefficient {}\".format(g))\n",
    "print(\"Top 4% capture {}\".format(d))\n",
    "print(\"Final eval metric {}\".format(gd))"
   ]
  },
  {
   "cell_type": "code",
   "execution_count": 44,
   "id": "2afd4697",
   "metadata": {},
   "outputs": [],
   "source": [
    "final_data=pd.read_csv('Final_Data_new.csv')\n",
    "req=final_data.columns\n",
    "req=req[2:-1]\n",
    "target=final_data['target']\n",
    "data_x=final_data[req]\n",
    "train_x,test_x,train_y,test_y=train_test_split(data_x,target,test_size=0.2)"
   ]
  },
  {
   "cell_type": "code",
   "execution_count": 45,
   "id": "0f05497a",
   "metadata": {},
   "outputs": [
    {
     "data": {
      "text/plain": [
       "GridSearchCV(estimator=LGBMClassifier(colsample_bytree=0.19, learning_rate=0.03,\n",
       "                                      max_bins=517, min_child_samples=2400,\n",
       "                                      num_leaves=94, random_state=1,\n",
       "                                      reg_lambda=50),\n",
       "             param_grid={'max_depth': [4, 5, 6],\n",
       "                         'n_estimators': [500, 800, 1000]})"
      ]
     },
     "execution_count": 45,
     "metadata": {},
     "output_type": "execute_result"
    }
   ],
   "source": [
    "params = {\n",
    "    'max_depth': [4,5,6,8],\n",
    "    'n_estimators': [500,800,1000,1200]\n",
    "}\n",
    "best_param=GridSearchCV(estimator=light,\n",
    "                       param_grid=params)\n",
    "best_param.fit(train_x,train_y)"
   ]
  },
  {
   "cell_type": "code",
   "execution_count": 46,
   "id": "0eb3f2f1",
   "metadata": {},
   "outputs": [
    {
     "data": {
      "text/plain": [
       "LGBMClassifier(colsample_bytree=0.19, learning_rate=0.03, max_bins=517,\n",
       "               max_depth=6, min_child_samples=2400, n_estimators=1000,\n",
       "               num_leaves=94, random_state=1, reg_lambda=50)"
      ]
     },
     "execution_count": 46,
     "metadata": {},
     "output_type": "execute_result"
    }
   ],
   "source": [
    "best_param=best_param.best_estimator_\n",
    "best_param.fit(train_x,train_y)"
   ]
  },
  {
   "cell_type": "code",
   "execution_count": 47,
   "id": "c0b2b753",
   "metadata": {},
   "outputs": [
    {
     "name": "stdout",
     "output_type": "stream",
     "text": [
      "The Accuracy Score is 0.8664393863431264\n",
      "The Precision is 0.7376947040498443\n",
      "The recall is 0.7171411265899454\n",
      "The f1 score is 0.7272727272727272\n",
      "The area under curve 0.9284859483991783\n"
     ]
    },
    {
     "data": {
      "text/plain": [
       "Text(0.5, 1.0, 'ROC Curve')"
      ]
     },
     "execution_count": 47,
     "metadata": {},
     "output_type": "execute_result"
    },
    {
     "data": {
      "image/png": "[encoded data removed]",
      "text/plain": [
       "<Figure size 640x480 with 1 Axes>"
      ]
     },
     "metadata": {},
     "output_type": "display_data"
    }
   ],
   "source": [
    "print(\"The Accuracy Score is {}\".format(accuracy_score(best_param.predict(test_x),test_y)))\n",
    "pre_recall_f1=precision_recall_fscore_support(test_y,best_param.predict(test_x),average='binary')\n",
    "print(\"The Precision is {}\".format(pre_recall_f1[0]))\n",
    "print(\"The recall is {}\".format(pre_recall_f1[1]))\n",
    "print(\"The f1 score is {}\".format(pre_recall_f1[2]))\n",
    "pred_proba_y=best_param.predict_proba(test_x)\n",
    "fpr, tpr, thresholds_roc = roc_curve(test_y,pred_proba_y[:,1])\n",
    "roc_auc = auc(fpr,tpr)\n",
    "print(\"The area under curve {}\".format(roc_auc))\n",
    "plt.plot(fpr,tpr)\n",
    "plt.xlabel(\"False Positive Rate\")\n",
    "plt.ylabel(\"True Positive Rate\")\n",
    "plt.title(\"ROC Curve\")"
   ]
  },
  {
   "cell_type": "code",
   "execution_count": 101,
   "id": "faa09ce6",
   "metadata": {},
   "outputs": [],
   "source": [
    "test_y_num=np.array(test_y)\n",
    "df=pd.DataFrame(test_y_num,columns=['target'])\n",
    "df2=pd.DataFrame(pred_proba_y[:,1],columns=['prediction'])"
   ]
  },
  {
   "cell_type": "code",
   "execution_count": 103,
   "id": "6295f744",
   "metadata": {},
   "outputs": [
    {
     "name": "stdout",
     "output_type": "stream",
     "text": [
      "Gini coefficient 0.856962980829062\n",
      "Top 4% capture 0.47203714920250356\n",
      "Final eval metric 0.6645000650157827\n"
     ]
    }
   ],
   "source": [
    "gd,g,d=amex_metric(df,df2)\n",
    "print(\"Gini coefficient {}\".format(g))\n",
    "print(\"Top 4% capture {}\".format(d))\n",
    "print(\"Final eval metric {}\".format(gd))"
   ]
  },
  {
   "cell_type": "code",
   "execution_count": null,
   "id": "e95d9163",
   "metadata": {},
   "outputs": [],
   "source": []
  }
 ],
 "metadata": {
  "kernelspec": {
   "display_name": "Python 3 (ipykernel)",
   "language": "python",
   "name": "python3"
  },
  "language_info": {
   "codemirror_mode": {
    "name": "ipython",
    "version": 3
   },
   "file_extension": ".py",
   "mimetype": "text/x-python",
   "name": "python",
   "nbconvert_exporter": "python",
   "pygments_lexer": "ipython3",
   "version": "3.9.13"
  }
 },
 "nbformat": 4,
 "nbformat_minor": 5
}
