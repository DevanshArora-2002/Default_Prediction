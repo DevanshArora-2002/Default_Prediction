{
 "cells": [
  {
   "cell_type": "code",
   "execution_count": 2,
   "id": "e2598358",
   "metadata": {},
   "outputs": [],
   "source": [
    "import tensorflow as tf\n",
    "from keras.models import Sequential\n",
    "from keras.layers import Dense,Flatten,Conv1D,MaxPooling1D,Dropout,BatchNormalization\n",
    "import pandas as pd\n",
    "import numpy as np\n",
    "from sklearn.model_selection import train_test_split"
   ]
  },
  {
   "cell_type": "code",
   "execution_count": 47,
   "id": "90c1de7a",
   "metadata": {},
   "outputs": [],
   "source": [
    "from sklearn.metrics import accuracy_score,precision_recall_fscore_support,roc_curve,auc,roc_auc_score"
   ]
  },
  {
   "cell_type": "code",
   "execution_count": 40,
   "id": "a55a66c6",
   "metadata": {},
   "outputs": [],
   "source": [
    "\"From kaggle competition evaluation metrix\"\n",
    "def amex_metric(y_true: pd.DataFrame, y_pred: pd.DataFrame) -> float:\n",
    "\n",
    "    def top_four_percent_captured(y_true: pd.DataFrame, y_pred: pd.DataFrame) -> float:\n",
    "        df = (pd.concat([y_true, y_pred], axis='columns')\n",
    "              .sort_values('prediction', ascending=False))\n",
    "        df['weight'] = df['target'].apply(lambda x: 20 if x==0 else 1)\n",
    "        four_pct_cutoff = int(0.04 * df['weight'].sum())\n",
    "        df['weight_cumsum'] = df['weight'].cumsum()\n",
    "        df_cutoff = df.loc[df['weight_cumsum'] <= four_pct_cutoff]\n",
    "        return (df_cutoff['target'] == 1).sum() / (df['target'] == 1).sum()\n",
    "        \n",
    "    def weighted_gini(y_true: pd.DataFrame, y_pred: pd.DataFrame) -> float:\n",
    "        df = (pd.concat([y_true, y_pred], axis='columns')\n",
    "              .sort_values('prediction', ascending=False))\n",
    "        df['weight'] = df['target'].apply(lambda x: 20 if x==0 else 1)\n",
    "        df['random'] = (df['weight'] / df['weight'].sum()).cumsum()\n",
    "        total_pos = (df['target'] * df['weight']).sum()\n",
    "        df['cum_pos_found'] = (df['target'] * df['weight']).cumsum()\n",
    "        df['lorentz'] = df['cum_pos_found'] / total_pos\n",
    "        df['gini'] = (df['lorentz'] - df['random']) * df['weight']\n",
    "        return df['gini'].sum()\n",
    "\n",
    "    def normalized_weighted_gini(y_true: pd.DataFrame, y_pred: pd.DataFrame) -> float:\n",
    "        y_true_pred = y_true.rename(columns={'target': 'prediction'})\n",
    "        return weighted_gini(y_true, y_pred) / weighted_gini(y_true, y_true_pred)\n",
    "\n",
    "    g = normalized_weighted_gini(y_true, y_pred)\n",
    "    d = top_four_percent_captured(y_true, y_pred)\n",
    "\n",
    "    return 0.5 * (g + d),g,d"
   ]
  },
  {
   "cell_type": "code",
   "execution_count": 3,
   "id": "8cf9bc5a",
   "metadata": {},
   "outputs": [],
   "source": [
    "final_data=pd.read_csv('Final_Data.csv')\n",
    "req=final_data.columns\n",
    "req=req[1:-1]\n",
    "target=final_data['target']\n",
    "data_x=final_data[req]\n",
    "train_x,test_x,train_y,test_y=train_test_split(data_x,target,test_size=0.2)"
   ]
  },
  {
   "cell_type": "code",
   "execution_count": 5,
   "id": "2fa962d3",
   "metadata": {},
   "outputs": [
    {
     "name": "stdout",
     "output_type": "stream",
     "text": [
      "(79784, 84, 1)\n",
      "(19946, 84, 1)\n"
     ]
    }
   ],
   "source": [
    "train_x=train_x.to_numpy()\n",
    "test_x=test_x.to_numpy()\n",
    "train_y=train_y.to_numpy()\n",
    "test_y=test_y.to_numpy()\n",
    "train_x=train_x.reshape(train_x.shape[0],train_x.shape[1],1)\n",
    "test_x=test_x.reshape(test_x.shape[0],test_x.shape[1],1)\n",
    "print(train_x.shape)\n",
    "print(test_x.shape)"
   ]
  },
  {
   "cell_type": "code",
   "execution_count": 28,
   "id": "536040eb",
   "metadata": {},
   "outputs": [
    {
     "name": "stdout",
     "output_type": "stream",
     "text": [
      "Model: \"sequential_6\"\n",
      "_________________________________________________________________\n",
      " Layer (type)                Output Shape              Param #   \n",
      "=================================================================\n",
      " conv1d_15 (Conv1D)          (None, 84, 64)            192       \n",
      "                                                                 \n",
      " conv1d_16 (Conv1D)          (None, 84, 64)            8256      \n",
      "                                                                 \n",
      " max_pooling1d_10 (MaxPoolin  (None, 42, 64)           0         \n",
      " g1D)                                                            \n",
      "                                                                 \n",
      " batch_normalization_10 (Bat  (None, 42, 64)           256       \n",
      " chNormalization)                                                \n",
      "                                                                 \n",
      " conv1d_17 (Conv1D)          (None, 42, 32)            4128      \n",
      "                                                                 \n",
      " max_pooling1d_11 (MaxPoolin  (None, 21, 32)           0         \n",
      " g1D)                                                            \n",
      "                                                                 \n",
      " batch_normalization_11 (Bat  (None, 21, 32)           128       \n",
      " chNormalization)                                                \n",
      "                                                                 \n",
      " flatten_5 (Flatten)         (None, 672)               0         \n",
      "                                                                 \n",
      " dense_10 (Dense)            (None, 64)                43072     \n",
      "                                                                 \n",
      " dense_11 (Dense)            (None, 32)                2080      \n",
      "                                                                 \n",
      " dense_12 (Dense)            (None, 1)                 33        \n",
      "                                                                 \n",
      "=================================================================\n",
      "Total params: 58,145\n",
      "Trainable params: 57,953\n",
      "Non-trainable params: 192\n",
      "_________________________________________________________________\n"
     ]
    }
   ],
   "source": [
    "model=Sequential()\n",
    "model.add(Conv1D(64,2,activation='relu',padding='same',input_shape=train_x[0].shape))\n",
    "model.add(Conv1D(64,2,activation='relu',padding='same'))\n",
    "model.add(MaxPooling1D(pool_size=(2),strides=(2),padding='valid'))\n",
    "model.add(BatchNormalization())\n",
    "model.add(Dropout(0.5))\n",
    "model.add(Conv1D(32,2,activation='relu',padding='same'))\n",
    "model.add(MaxPooling1D(pool_size=(2),strides=(2),padding='valid'))\n",
    "model.add(BatchNormalization())\n",
    "model.add(Dropout(0.5))\n",
    "model.add(Flatten())\n",
    "model.add(Dense(64,activation='relu'))\n",
    "model.add(Dense(32,activation='relu'))\n",
    "model.add(Dropout(0.5))\n",
    "model.add(Dense(1,activation='sigmoid'))\n",
    "model.summary()"
   ]
  },
  {
   "cell_type": "code",
   "execution_count": 29,
   "id": "deb1b4c9",
   "metadata": {},
   "outputs": [
    {
     "name": "stdout",
     "output_type": "stream",
     "text": [
      "Epoch 1/10\n",
      "2494/2494 [==============================] - 22s 8ms/step - loss: 0.3143 - accuracy: 0.8550 - val_loss: 0.3062 - val_accuracy: 0.8564\n",
      "Epoch 2/10\n",
      "2494/2494 [==============================] - 20s 8ms/step - loss: 0.3033 - accuracy: 0.8614 - val_loss: 0.2995 - val_accuracy: 0.8597\n",
      "Epoch 3/10\n",
      "2494/2494 [==============================] - 20s 8ms/step - loss: 0.2987 - accuracy: 0.8633 - val_loss: 0.2994 - val_accuracy: 0.8587\n",
      "Epoch 4/10\n",
      "2494/2494 [==============================] - 20s 8ms/step - loss: 0.2960 - accuracy: 0.8645 - val_loss: 0.3049 - val_accuracy: 0.8571\n",
      "Epoch 5/10\n",
      "2494/2494 [==============================] - 20s 8ms/step - loss: 0.2944 - accuracy: 0.8662 - val_loss: 0.3047 - val_accuracy: 0.8579\n",
      "Epoch 6/10\n",
      "2494/2494 [==============================] - 20s 8ms/step - loss: 0.2915 - accuracy: 0.8673 - val_loss: 0.3053 - val_accuracy: 0.8554\n",
      "Epoch 7/10\n",
      "2494/2494 [==============================] - 22s 9ms/step - loss: 0.2886 - accuracy: 0.8707 - val_loss: 0.3078 - val_accuracy: 0.8527\n",
      "Epoch 8/10\n",
      "2494/2494 [==============================] - 20s 8ms/step - loss: 0.2856 - accuracy: 0.8712 - val_loss: 0.3071 - val_accuracy: 0.8588\n",
      "Epoch 9/10\n",
      "2494/2494 [==============================] - 20s 8ms/step - loss: 0.2825 - accuracy: 0.8728 - val_loss: 0.3195 - val_accuracy: 0.8599\n",
      "Epoch 10/10\n",
      "2494/2494 [==============================] - 20s 8ms/step - loss: 0.2793 - accuracy: 0.8745 - val_loss: 0.3125 - val_accuracy: 0.8593\n"
     ]
    },
    {
     "data": {
      "text/plain": [
       "<keras.callbacks.History at 0x18c8732dca0>"
      ]
     },
     "execution_count": 29,
     "metadata": {},
     "output_type": "execute_result"
    }
   ],
   "source": [
    "model.compile(loss='binary_crossentropy',metrics=['accuracy'])\n",
    "\n",
    "model.fit(train_x,train_y,epochs=10,validation_data=(test_x,test_y),verbose=1)"
   ]
  },
  {
   "cell_type": "code",
   "execution_count": 51,
   "id": "c2fdf27e",
   "metadata": {},
   "outputs": [
    {
     "name": "stdout",
     "output_type": "stream",
     "text": [
      "624/624 [==============================] - 1s 2ms/step\n"
     ]
    }
   ],
   "source": [
    "pred_proba_y=model.predict(test_x)"
   ]
  },
  {
   "cell_type": "code",
   "execution_count": 52,
   "id": "0d4a3100",
   "metadata": {},
   "outputs": [],
   "source": [
    "def predictor(x):\n",
    "    if x>0.5:\n",
    "        return 1\n",
    "    else:\n",
    "        return 0\n",
    "pred_y=np.array([predictor(i) for i in pred_proba_y])"
   ]
  },
  {
   "cell_type": "code",
   "execution_count": 53,
   "id": "bd992c5b",
   "metadata": {},
   "outputs": [],
   "source": [
    "import matplotlib.pyplot as plt"
   ]
  },
  {
   "cell_type": "code",
   "execution_count": 54,
   "id": "bd71df8b",
   "metadata": {},
   "outputs": [
    {
     "name": "stdout",
     "output_type": "stream",
     "text": [
      "The Accuracy Score is 0.8596711120024065\n",
      "The Precision is 0.716457235508715\n",
      "The recall is 0.7163120567375887\n",
      "The f1 score is 0.716384638767859\n",
      "The area under curve 0.9167693370690604\n"
     ]
    },
    {
     "data": {
      "text/plain": [
       "Text(0.5, 1.0, 'ROC Curve')"
      ]
     },
     "execution_count": 54,
     "metadata": {},
     "output_type": "execute_result"
    },
    {
     "data": {
      "image/png": "[encoded data removed]",
      "text/plain": [
       "<Figure size 640x480 with 1 Axes>"
      ]
     },
     "metadata": {},
     "output_type": "display_data"
    }
   ],
   "source": [
    "print(\"The Accuracy Score is {}\".format(accuracy_score(pred_y,test_y)))\n",
    "pre_recall_f1=precision_recall_fscore_support(test_y,pred_y,average='binary')\n",
    "print(\"The Precision is {}\".format(pre_recall_f1[0]))\n",
    "print(\"The recall is {}\".format(pre_recall_f1[1]))\n",
    "print(\"The f1 score is {}\".format(pre_recall_f1[2]))\n",
    "fpr, tpr, thresholds_roc = roc_curve(test_y,pred_proba_y)\n",
    "roc_auc = auc(fpr,tpr)\n",
    "print(\"The area under curve {}\".format(roc_auc))\n",
    "plt.plot(fpr,tpr)\n",
    "plt.xlabel(\"False Positive Rate\")\n",
    "plt.ylabel(\"True Positive Rate\")\n",
    "plt.title(\"ROC Curve\")"
   ]
  },
  {
   "cell_type": "code",
   "execution_count": 57,
   "id": "1d38cdc4",
   "metadata": {},
   "outputs": [],
   "source": [
    "test_y_num=np.array(test_y)\n",
    "df=pd.DataFrame(test_y_num,columns=['target'])\n",
    "df2=pd.DataFrame(pred_proba_y,columns=['prediction'])"
   ]
  },
  {
   "cell_type": "code",
   "execution_count": 58,
   "id": "f813b29a",
   "metadata": {},
   "outputs": [
    {
     "name": "stdout",
     "output_type": "stream",
     "text": [
      "Gini coefficient 0.8335283090379694\n",
      "Top 4% capture 0.44356636271529887\n",
      "Final eval metric 0.6385473358766341\n"
     ]
    }
   ],
   "source": [
    "gd,g,d=amex_metric(df,df2)\n",
    "print(\"Gini coefficient {}\".format(g))\n",
    "print(\"Top 4% capture {}\".format(d))\n",
    "print(\"Final eval metric {}\".format(gd))"
   ]
  },
  {
   "cell_type": "code",
   "execution_count": 31,
   "id": "d99a18d2",
   "metadata": {},
   "outputs": [],
   "source": [
    "final_data=pd.read_csv('Final_Data_new.csv')\n",
    "req=final_data.columns\n",
    "req=req[2:-1]\n",
    "target=final_data['target']\n",
    "data_x=final_data[req]\n",
    "train_x,test_x,train_y,test_y=train_test_split(data_x,target,test_size=0.2)"
   ]
  },
  {
   "cell_type": "code",
   "execution_count": 32,
   "id": "fa4ca964",
   "metadata": {},
   "outputs": [
    {
     "name": "stdout",
     "output_type": "stream",
     "text": [
      "(79784, 84, 1)\n",
      "(19946, 84, 1)\n"
     ]
    }
   ],
   "source": [
    "train_x=train_x.to_numpy()\n",
    "test_x=test_x.to_numpy()\n",
    "train_y=train_y.to_numpy()\n",
    "test_y=test_y.to_numpy()\n",
    "train_x=train_x.reshape(train_x.shape[0],train_x.shape[1],1)\n",
    "test_x=test_x.reshape(test_x.shape[0],test_x.shape[1],1)\n",
    "print(train_x.shape)\n",
    "print(test_x.shape)"
   ]
  },
  {
   "cell_type": "code",
   "execution_count": 33,
   "id": "b487ddf0",
   "metadata": {},
   "outputs": [
    {
     "name": "stdout",
     "output_type": "stream",
     "text": [
      "Model: \"sequential_7\"\n",
      "_________________________________________________________________\n",
      " Layer (type)                Output Shape              Param #   \n",
      "=================================================================\n",
      " conv1d_18 (Conv1D)          (None, 84, 64)            192       \n",
      "                                                                 \n",
      " conv1d_19 (Conv1D)          (None, 84, 64)            8256      \n",
      "                                                                 \n",
      " max_pooling1d_12 (MaxPoolin  (None, 42, 64)           0         \n",
      " g1D)                                                            \n",
      "                                                                 \n",
      " batch_normalization_12 (Bat  (None, 42, 64)           256       \n",
      " chNormalization)                                                \n",
      "                                                                 \n",
      " conv1d_20 (Conv1D)          (None, 42, 32)            4128      \n",
      "                                                                 \n",
      " max_pooling1d_13 (MaxPoolin  (None, 21, 32)           0         \n",
      " g1D)                                                            \n",
      "                                                                 \n",
      " batch_normalization_13 (Bat  (None, 21, 32)           128       \n",
      " chNormalization)                                                \n",
      "                                                                 \n",
      " flatten_6 (Flatten)         (None, 672)               0         \n",
      "                                                                 \n",
      " dense_13 (Dense)            (None, 64)                43072     \n",
      "                                                                 \n",
      " dense_14 (Dense)            (None, 32)                2080      \n",
      "                                                                 \n",
      " dense_15 (Dense)            (None, 1)                 33        \n",
      "                                                                 \n",
      "=================================================================\n",
      "Total params: 58,145\n",
      "Trainable params: 57,953\n",
      "Non-trainable params: 192\n",
      "_________________________________________________________________\n"
     ]
    }
   ],
   "source": [
    "model=Sequential()\n",
    "model.add(Conv1D(64,2,activation='relu',padding='same',input_shape=train_x[0].shape))\n",
    "model.add(Conv1D(64,2,activation='relu',padding='same'))\n",
    "model.add(MaxPooling1D(pool_size=(2),strides=(2),padding='valid'))\n",
    "model.add(BatchNormalization())\n",
    "model.add(Dropout(0.5))\n",
    "model.add(Conv1D(32,2,activation='relu',padding='same'))\n",
    "model.add(MaxPooling1D(pool_size=(2),strides=(2),padding='valid'))\n",
    "model.add(BatchNormalization())\n",
    "model.add(Dropout(0.5))\n",
    "model.add(Flatten())\n",
    "model.add(Dense(64,activation='relu'))\n",
    "model.add(Dense(32,activation='relu'))\n",
    "model.add(Dropout(0.5))\n",
    "model.add(Dense(1,activation='sigmoid'))\n",
    "model.summary()"
   ]
  },
  {
   "cell_type": "code",
   "execution_count": 34,
   "id": "6bceda67",
   "metadata": {},
   "outputs": [
    {
     "name": "stdout",
     "output_type": "stream",
     "text": [
      "Epoch 1/10\n",
      "2494/2494 [==============================] - 24s 9ms/step - loss: 0.3137 - accuracy: 0.8552 - val_loss: 0.3207 - val_accuracy: 0.8571\n",
      "Epoch 2/10\n",
      "2494/2494 [==============================] - 22s 9ms/step - loss: 0.3034 - accuracy: 0.8613 - val_loss: 0.3098 - val_accuracy: 0.8606\n",
      "Epoch 3/10\n",
      "2494/2494 [==============================] - 23s 9ms/step - loss: 0.3004 - accuracy: 0.8634 - val_loss: 0.3072 - val_accuracy: 0.8562\n",
      "Epoch 4/10\n",
      "2494/2494 [==============================] - 24s 10ms/step - loss: 0.2988 - accuracy: 0.8635 - val_loss: 0.3061 - val_accuracy: 0.8608\n",
      "Epoch 5/10\n",
      "2494/2494 [==============================] - 24s 10ms/step - loss: 0.2953 - accuracy: 0.8661 - val_loss: 0.3057 - val_accuracy: 0.8568\n",
      "Epoch 6/10\n",
      "2494/2494 [==============================] - 22s 9ms/step - loss: 0.2938 - accuracy: 0.8667 - val_loss: 0.3066 - val_accuracy: 0.8614\n",
      "Epoch 7/10\n",
      "2494/2494 [==============================] - 21s 8ms/step - loss: 0.2909 - accuracy: 0.8685 - val_loss: 0.3064 - val_accuracy: 0.8582\n",
      "Epoch 8/10\n",
      "2494/2494 [==============================] - 20s 8ms/step - loss: 0.2896 - accuracy: 0.8696 - val_loss: 0.3170 - val_accuracy: 0.8585\n",
      "Epoch 9/10\n",
      "2494/2494 [==============================] - 21s 8ms/step - loss: 0.2864 - accuracy: 0.8706 - val_loss: 0.3721 - val_accuracy: 0.8590\n",
      "Epoch 10/10\n",
      "2494/2494 [==============================] - 21s 8ms/step - loss: 0.2835 - accuracy: 0.8720 - val_loss: 0.3144 - val_accuracy: 0.8597\n"
     ]
    },
    {
     "data": {
      "text/plain": [
       "<keras.callbacks.History at 0x18c9ed689d0>"
      ]
     },
     "execution_count": 34,
     "metadata": {},
     "output_type": "execute_result"
    }
   ],
   "source": [
    "model.compile(loss='binary_crossentropy',metrics=['accuracy'])\n",
    "model.fit(train_x,train_y,epochs=10,validation_data=(test_x,test_y),verbose=1)"
   ]
  },
  {
   "cell_type": "code",
   "execution_count": 37,
   "id": "4118d906",
   "metadata": {},
   "outputs": [
    {
     "name": "stdout",
     "output_type": "stream",
     "text": [
      "624/624 [==============================] - 1s 2ms/step\n"
     ]
    }
   ],
   "source": [
    "pred_proba_y=model.predict(test_x)"
   ]
  },
  {
   "cell_type": "code",
   "execution_count": 45,
   "id": "b83bcca3",
   "metadata": {},
   "outputs": [],
   "source": [
    "def predictor(x):\n",
    "    if x>0.5:\n",
    "        return 1\n",
    "    else:\n",
    "        return 0\n",
    "pred_y=np.array([predictor(i) for i in pred_proba_y])"
   ]
  },
  {
   "cell_type": "code",
   "execution_count": 49,
   "id": "a8f05903",
   "metadata": {},
   "outputs": [
    {
     "name": "stdout",
     "output_type": "stream",
     "text": [
      "The Accuracy Score is 0.8596711120024065\n",
      "The Precision is 0.716457235508715\n",
      "The recall is 0.7163120567375887\n",
      "The f1 score is 0.716384638767859\n",
      "The area under curve 0.9167693370690604\n"
     ]
    },
    {
     "data": {
      "text/plain": [
       "Text(0.5, 1.0, 'ROC Curve')"
      ]
     },
     "execution_count": 49,
     "metadata": {},
     "output_type": "execute_result"
    },
    {
     "data": {
      "image/png": "[encoded data removed]",
      "text/plain": [
       "<Figure size 640x480 with 1 Axes>"
      ]
     },
     "metadata": {},
     "output_type": "display_data"
    }
   ],
   "source": [
    "print(\"The Accuracy Score is {}\".format(accuracy_score(pred_y,test_y)))\n",
    "pre_recall_f1=precision_recall_fscore_support(test_y,pred_y,average='binary')\n",
    "print(\"The Precision is {}\".format(pre_recall_f1[0]))\n",
    "print(\"The recall is {}\".format(pre_recall_f1[1]))\n",
    "print(\"The f1 score is {}\".format(pre_recall_f1[2]))\n",
    "fpr, tpr, thresholds_roc = roc_curve(test_y,pred_proba_y)\n",
    "roc_auc = auc(fpr,tpr)\n",
    "print(\"The area under curve {}\".format(roc_auc))\n",
    "plt.plot(fpr,tpr)\n",
    "plt.xlabel(\"False Positive Rate\")\n",
    "plt.ylabel(\"True Positive Rate\")\n",
    "plt.title(\"ROC Curve\")"
   ]
  },
  {
   "cell_type": "code",
   "execution_count": 42,
   "id": "25e5a01b",
   "metadata": {},
   "outputs": [],
   "source": [
    "test_y_num=np.array(test_y)\n",
    "df=pd.DataFrame(test_y_num,columns=['target'])\n",
    "df2=pd.DataFrame(pred_proba_y,columns=['prediction'])"
   ]
  },
  {
   "cell_type": "code",
   "execution_count": 43,
   "id": "b9342f55",
   "metadata": {},
   "outputs": [
    {
     "name": "stdout",
     "output_type": "stream",
     "text": [
      "Gini coefficient 0.8335283090379694\n",
      "Top 4% capture 0.44356636271529887\n",
      "Final eval metric 0.6385473358766341\n"
     ]
    }
   ],
   "source": [
    "gd,g,d=amex_metric(df,df2)\n",
    "print(\"Gini coefficient {}\".format(g))\n",
    "print(\"Top 4% capture {}\".format(d))\n",
    "print(\"Final eval metric {}\".format(gd))"
   ]
  },
  {
   "cell_type": "code",
   "execution_count": null,
   "id": "29f74351",
   "metadata": {},
   "outputs": [],
   "source": []
  }
 ],
 "metadata": {
  "kernelspec": {
   "display_name": "Python 3 (ipykernel)",
   "language": "python",
   "name": "python3"
  },
  "language_info": {
   "codemirror_mode": {
    "name": "ipython",
    "version": 3
   },
   "file_extension": ".py",
   "mimetype": "text/x-python",
   "name": "python",
   "nbconvert_exporter": "python",
   "pygments_lexer": "ipython3",
   "version": "3.9.13"
  }
 },
 "nbformat": 4,
 "nbformat_minor": 5
}
