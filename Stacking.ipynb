{
 "cells": [
  {
   "cell_type": "code",
   "execution_count": 25,
   "id": "05b16725",
   "metadata": {},
   "outputs": [],
   "source": [
    "import lightgbm as lgb\n",
    "import pandas as pd\n",
    "import numpy as np\n",
    "from sklearn.ensemble import RandomForestClassifier\n",
    "from sklearn.linear_model import LogisticRegression\n",
    "from xgboost import XGBClassifier"
   ]
  },
  {
   "cell_type": "code",
   "execution_count": 434,
   "id": "3cf85250",
   "metadata": {},
   "outputs": [],
   "source": [
    "from sklearn.metrics import accuracy_score,precision_recall_fscore_support,roc_curve,auc,roc_auc_score"
   ]
  },
  {
   "cell_type": "code",
   "execution_count": 3,
   "id": "276a731d",
   "metadata": {},
   "outputs": [],
   "source": [
    "\"From kaggle competition evaluation metrix\"\n",
    "def amex_metric(y_true: pd.DataFrame, y_pred: pd.DataFrame) -> float:\n",
    "\n",
    "    def top_four_percent_captured(y_true: pd.DataFrame, y_pred: pd.DataFrame) -> float:\n",
    "        df = (pd.concat([y_true, y_pred], axis='columns')\n",
    "              .sort_values('prediction', ascending=False))\n",
    "        df['weight'] = df['target'].apply(lambda x: 20 if x==0 else 1)\n",
    "        four_pct_cutoff = int(0.04 * df['weight'].sum())\n",
    "        df['weight_cumsum'] = df['weight'].cumsum()\n",
    "        df_cutoff = df.loc[df['weight_cumsum'] <= four_pct_cutoff]\n",
    "        return (df_cutoff['target'] == 1).sum() / (df['target'] == 1).sum()\n",
    "        \n",
    "    def weighted_gini(y_true: pd.DataFrame, y_pred: pd.DataFrame) -> float:\n",
    "        df = (pd.concat([y_true, y_pred], axis='columns')\n",
    "              .sort_values('prediction', ascending=False))\n",
    "        df['weight'] = df['target'].apply(lambda x: 20 if x==0 else 1)\n",
    "        df['random'] = (df['weight'] / df['weight'].sum()).cumsum()\n",
    "        total_pos = (df['target'] * df['weight']).sum()\n",
    "        df['cum_pos_found'] = (df['target'] * df['weight']).cumsum()\n",
    "        df['lorentz'] = df['cum_pos_found'] / total_pos\n",
    "        df['gini'] = (df['lorentz'] - df['random']) * df['weight']\n",
    "        return df['gini'].sum()\n",
    "\n",
    "    def normalized_weighted_gini(y_true: pd.DataFrame, y_pred: pd.DataFrame) -> float:\n",
    "        y_true_pred = y_true.rename(columns={'target': 'prediction'})\n",
    "        return weighted_gini(y_true, y_pred) / weighted_gini(y_true, y_true_pred)\n",
    "\n",
    "    g = normalized_weighted_gini(y_true, y_pred)\n",
    "    d = top_four_percent_captured(y_true, y_pred)\n",
    "\n",
    "    return 0.5 * (g + d),g,d"
   ]
  },
  {
   "cell_type": "code",
   "execution_count": 107,
   "id": "381368b2",
   "metadata": {},
   "outputs": [],
   "source": [
    "final_data=pd.read_csv('Final_Data.csv')\n",
    "req=final_data.columns\n",
    "req=req[1:-1]\n",
    "target=final_data['target']\n",
    "data_x=final_data[req]\n",
    "train_x,test_x,train_y,test_y=train_test_split(data_x,target,test_size=0.2)"
   ]
  },
  {
   "cell_type": "code",
   "execution_count": 108,
   "id": "75cfe5c0",
   "metadata": {},
   "outputs": [],
   "source": [
    "lgm=lgb.LGBMClassifier(learning_rate=0.03, reg_lambda=50,\n",
    "                          min_child_samples=2400,\n",
    "                          num_leaves=94,\n",
    "                          colsample_bytree=0.19,\n",
    "                          max_bins=517, random_state=1,n_estimators=1150,\n",
    "                            max_depth=5)\n",
    "xgb=XGBClassifier(learning_rate =0.1,n_estimators=500,\n",
    "max_depth=4,\n",
    "min_child_weight=1,\n",
    "gamma=0,\n",
    "subsample=0.8,\n",
    "colsample_bytree=0.8,\n",
    "objective= 'binary:logistic',\n",
    "nthread=4,\n",
    "scale_pos_weight=1,\n",
    "seed=2)\n"
   ]
  },
  {
   "cell_type": "code",
   "execution_count": 448,
   "id": "7d56bb31",
   "metadata": {},
   "outputs": [],
   "source": [
    "class model:\n",
    "    def __init__(self):\n",
    "        self.columns=[]\n",
    "        self.lgb_list=[]\n",
    "        self.xgb_list=[]\n",
    "        for i in range(5):\n",
    "            self.xgb_list.append(XGBClassifier(learning_rate =0.1,n_estimators=500,\n",
    "                                max_depth=4,\n",
    "                                min_child_weight=1,\n",
    "                                gamma=0,\n",
    "                                subsample=0.8,\n",
    "                                colsample_bytree=0.8,\n",
    "                                objective= 'binary:logistic',\n",
    "                                nthread=4,\n",
    "                                scale_pos_weight=1,\n",
    "                                seed=2))\n",
    "        for i in range(5):\n",
    "            self.lgb_list.append(lgb.LGBMClassifier(learning_rate=0.03, reg_lambda=50,\n",
    "                          min_child_samples=2400,\n",
    "                          num_leaves=94,\n",
    "                          colsample_bytree=0.19,\n",
    "                          max_bins=517, random_state=1,n_estimators=1200,\n",
    "                            max_depth=6))\n",
    "    def fit(self,tr_x,tr_y):\n",
    "        cols=np.array(tr_x.columns)\n",
    "        for model in self.lgb_list:\n",
    "            ttr_x,tes,ttr_y,t2=train_test_split(tr_x,tr_y,test_size=0.3,shuffle=True)\n",
    "            model.fit(ttr_x,ttr_y)\n",
    "        for model in self.xgb_list:\n",
    "            ttr_x,tes,ttr_y,t2=train_test_split(tr_x,tr_y,test_size=0.3,shuffle=True)\n",
    "            model.fit(ttr_x,ttr_y)\n",
    "    def predict(self,test):\n",
    "        pred=np.zeros(test.shape[0])\n",
    "        ind=0\n",
    "        for model in self.lgb_list:\n",
    "            pred+=model.predict(test)\n",
    "        for model in self.xgb_list:\n",
    "            pred+=model.predict(test)\n",
    "        pred=pred/10\n",
    "        for i in range(len(pred)):\n",
    "            if(pred[i]>=0.5):\n",
    "                pred[i]=1\n",
    "            else:\n",
    "                pred[i]=0\n",
    "        return pred\n",
    "    def predict_proba(self,test):\n",
    "        pred=np.zeros((test.shape[0],2))\n",
    "        for model in self.lgb_list:\n",
    "            pred+=model.predict_proba(test)\n",
    "        for model in self.xgb_list:\n",
    "            pred+=model.predict_proba(test)\n",
    "        return pred/10"
   ]
  },
  {
   "cell_type": "code",
   "execution_count": 449,
   "id": "369491fe",
   "metadata": {},
   "outputs": [],
   "source": [
    "mo=model()\n",
    "mo.fit(train_x,train_y)"
   ]
  },
  {
   "cell_type": "code",
   "execution_count": 450,
   "id": "c6c3e11e",
   "metadata": {},
   "outputs": [],
   "source": [
    "import matplotlib.pyplot as plt"
   ]
  },
  {
   "cell_type": "code",
   "execution_count": 454,
   "id": "6fce97ae",
   "metadata": {},
   "outputs": [
    {
     "name": "stdout",
     "output_type": "stream",
     "text": [
      "The Accuracy Score is 0.8800992680236639\n",
      "The Precision is 0.737330910559257\n",
      "The recall is 0.7389720760825577\n",
      "The f1 score is 0.7381505811015665\n",
      "The area under curve 0.9322236315021242\n"
     ]
    },
    {
     "data": {
      "text/plain": [
       "Text(0.5, 1.0, 'ROC Curve')"
      ]
     },
     "execution_count": 454,
     "metadata": {},
     "output_type": "execute_result"
    },
    {
     "data": {
      "image/png": "[encoded data removed]",
      "text/plain": [
       "<Figure size 640x480 with 1 Axes>"
      ]
     },
     "metadata": {},
     "output_type": "display_data"
    }
   ],
   "source": [
    "pred=mo.predict(test_x)\n",
    "print(\"The Accuracy Score is {}\".format(accuracy_score(pred,test_y)))\n",
    "pre_recall_f1=precision_recall_fscore_support(test_y,pred,average='binary')\n",
    "print(\"The Precision is {}\".format(pre_recall_f1[0]))\n",
    "print(\"The recall is {}\".format(pre_recall_f1[1]))\n",
    "print(\"The f1 score is {}\".format(pre_recall_f1[2]))\n",
    "pred_proba_y=mo.predict_proba(test_x)\n",
    "fpr, tpr, thresholds_roc = roc_curve(test_y,pred_proba_y[:,1])\n",
    "roc_auc = auc(fpr,tpr)\n",
    "print(\"The area under curve {}\".format(roc_auc))\n",
    "plt.plot(fpr,tpr)\n",
    "plt.xlabel(\"False Positive Rate\")\n",
    "plt.ylabel(\"True Positive Rate\")\n",
    "plt.title(\"ROC Curve\")"
   ]
  },
  {
   "cell_type": "code",
   "execution_count": null,
   "id": "f92c03a8",
   "metadata": {},
   "outputs": [],
   "source": [
    "from sklearn.metrics import confusion_matrix\n",
    "from sklearn.metrics import plot_confusion_matrix\n",
    "confusion_matrix(test_y,best_param.predict(test_x))\n",
    "m=plot_confusion_matrix(best_param,test_x,test_y, cmap=plt.cm.Blues)\n",
    "plt.show()"
   ]
  },
  {
   "cell_type": "code",
   "execution_count": 455,
   "id": "c3e8d22b",
   "metadata": {},
   "outputs": [],
   "source": [
    "test_y_num=np.array(train_y)\n",
    "df=pd.DataFrame(test_y_num,columns=['target'])\n",
    "df2=pd.DataFrame(mo.predict_proba(train_x)[:,1],columns=['prediction'])"
   ]
  },
  {
   "cell_type": "code",
   "execution_count": 456,
   "id": "fb9f72de",
   "metadata": {},
   "outputs": [
    {
     "name": "stdout",
     "output_type": "stream",
     "text": [
      "Gini coefficient 0.8917960681457701\n",
      "Top 4% capture 0.553459440167236\n",
      "Final eval metric 0.722627754156503\n"
     ]
    }
   ],
   "source": [
    "gd,g,d=amex_metric(df,df2)\n",
    "print(\"Gini coefficient {}\".format(g))\n",
    "print(\"Top 4% capture {}\".format(d))\n",
    "print(\"Final eval metric {}\".format(gd))"
   ]
  },
  {
   "cell_type": "code",
   "execution_count": 457,
   "id": "31253205",
   "metadata": {},
   "outputs": [],
   "source": [
    "final_data=pd.read_csv('Final_Data_new.csv')\n",
    "req=final_data.columns\n",
    "req=req[2:-1]\n",
    "target=final_data['target']\n",
    "data_x=final_data[req]\n",
    "train_x,test_x,train_y,test_y=train_test_split(data_x,target,test_size=0.2)"
   ]
  },
  {
   "cell_type": "code",
   "execution_count": 458,
   "id": "4b76ef1a",
   "metadata": {},
   "outputs": [],
   "source": [
    "mo=model()\n",
    "mo.fit(train_x,train_y)"
   ]
  },
  {
   "cell_type": "code",
   "execution_count": 463,
   "id": "7fb35322",
   "metadata": {},
   "outputs": [
    {
     "name": "stdout",
     "output_type": "stream",
     "text": [
      "The Accuracy Score is 0.8931385741502056\n",
      "The Precision is 0.7264529058116233\n",
      "The recall is 0.7352941176470589\n",
      "The f1 score is 0.7308467741935484\n",
      "The area under curve 0.9280193216485244\n"
     ]
    },
    {
     "data": {
      "text/plain": [
       "Text(0.5, 1.0, 'ROC Curve')"
      ]
     },
     "execution_count": 463,
     "metadata": {},
     "output_type": "execute_result"
    },
    {
     "data": {
      "image/png": "[encoded data removed]",
      "text/plain": [
       "<Figure size 640x480 with 1 Axes>"
      ]
     },
     "metadata": {},
     "output_type": "display_data"
    }
   ],
   "source": [
    "pred=mo.predict(test_x)\n",
    "print(\"The Accuracy Score is {}\".format(accuracy_score(pred,test_y)))\n",
    "pre_recall_f1=precision_recall_fscore_support(test_y,pred,average='binary')\n",
    "print(\"The Precision is {}\".format(pre_recall_f1[0]))\n",
    "print(\"The recall is {}\".format(pre_recall_f1[1]))\n",
    "print(\"The f1 score is {}\".format(pre_recall_f1[2]))\n",
    "pred_proba_y=mo.predict_proba(test_x)\n",
    "fpr, tpr, thresholds_roc = roc_curve(test_y,pred_proba_y[:,1])\n",
    "roc_auc = auc(fpr,tpr)\n",
    "print(\"The area under curve {}\".format(roc_auc))\n",
    "plt.plot(fpr,tpr)\n",
    "plt.xlabel(\"False Positive Rate\")\n",
    "plt.ylabel(\"True Positive Rate\")\n",
    "plt.title(\"ROC Curve\")"
   ]
  },
  {
   "cell_type": "code",
   "execution_count": 464,
   "id": "4ee68b95",
   "metadata": {},
   "outputs": [],
   "source": [
    "test_y_num=np.array(train_y)\n",
    "df=pd.DataFrame(test_y_num,columns=['target'])\n",
    "df2=pd.DataFrame(mo.predict_proba(train_x)[:,1],columns=['prediction'])"
   ]
  },
  {
   "cell_type": "code",
   "execution_count": 465,
   "id": "1ec6e8d7",
   "metadata": {},
   "outputs": [
    {
     "name": "stdout",
     "output_type": "stream",
     "text": [
      "Gini coefficient 0.8930167637014855\n",
      "Top 4% capture 0.5674904458598726\n",
      "Final eval metric 0.7302536047806791\n"
     ]
    }
   ],
   "source": [
    "gd,g,d=amex_metric(df,df2)\n",
    "print(\"Gini coefficient {}\".format(g))\n",
    "print(\"Top 4% capture {}\".format(d))\n",
    "print(\"Final eval metric {}\".format(gd))"
   ]
  }
 ],
 "metadata": {
  "kernelspec": {
   "display_name": "Python 3 (ipykernel)",
   "language": "python",
   "name": "python3"
  },
  "language_info": {
   "codemirror_mode": {
    "name": "ipython",
    "version": 3
   },
   "file_extension": ".py",
   "mimetype": "text/x-python",
   "name": "python",
   "nbconvert_exporter": "python",
   "pygments_lexer": "ipython3",
   "version": "3.9.13"
  }
 },
 "nbformat": 4,
 "nbformat_minor": 5
}
