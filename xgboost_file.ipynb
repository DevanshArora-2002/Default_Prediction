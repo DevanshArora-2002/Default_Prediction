{
 "cells": [
  {
   "cell_type": "code",
   "execution_count": 1,
   "id": "84081920",
   "metadata": {},
   "outputs": [],
   "source": [
    "import pandas as pd\n",
    "import numpy as np"
   ]
  },
  {
   "cell_type": "code",
   "execution_count": 2,
   "id": "af6f236a",
   "metadata": {},
   "outputs": [],
   "source": [
    "from numpy import loadtxt\n",
    "from xgboost import XGBClassifier\n",
    "from sklearn.model_selection import train_test_split\n",
    "from sklearn.metrics import accuracy_score"
   ]
  },
  {
   "cell_type": "code",
   "execution_count": 3,
   "id": "c9450c4d",
   "metadata": {},
   "outputs": [],
   "source": [
    "from sklearn.model_selection import train_test_split"
   ]
  },
  {
   "cell_type": "code",
   "execution_count": 4,
   "id": "763269f0",
   "metadata": {},
   "outputs": [],
   "source": [
    "from sklearn.metrics import accuracy_score,precision_recall_fscore_support,roc_curve,auc,roc_auc_score"
   ]
  },
  {
   "cell_type": "code",
   "execution_count": 5,
   "id": "69991a84",
   "metadata": {},
   "outputs": [],
   "source": [
    "\"From kaggle competition evaluation metrix\"\n",
    "def amex_metric(y_true: pd.DataFrame, y_pred: pd.DataFrame) -> float:\n",
    "\n",
    "    def top_four_percent_captured(y_true: pd.DataFrame, y_pred: pd.DataFrame) -> float:\n",
    "        df = (pd.concat([y_true, y_pred], axis='columns')\n",
    "              .sort_values('prediction', ascending=False))\n",
    "        df['weight'] = df['target'].apply(lambda x: 20 if x==0 else 1)\n",
    "        four_pct_cutoff = int(0.04 * df['weight'].sum())\n",
    "        df['weight_cumsum'] = df['weight'].cumsum()\n",
    "        df_cutoff = df.loc[df['weight_cumsum'] <= four_pct_cutoff]\n",
    "        return (df_cutoff['target'] == 1).sum() / (df['target'] == 1).sum()\n",
    "        \n",
    "    def weighted_gini(y_true: pd.DataFrame, y_pred: pd.DataFrame) -> float:\n",
    "        df = (pd.concat([y_true, y_pred], axis='columns')\n",
    "              .sort_values('prediction', ascending=False))\n",
    "        df['weight'] = df['target'].apply(lambda x: 20 if x==0 else 1)\n",
    "        df['random'] = (df['weight'] / df['weight'].sum()).cumsum()\n",
    "        total_pos = (df['target'] * df['weight']).sum()\n",
    "        df['cum_pos_found'] = (df['target'] * df['weight']).cumsum()\n",
    "        df['lorentz'] = df['cum_pos_found'] / total_pos\n",
    "        df['gini'] = (df['lorentz'] - df['random']) * df['weight']\n",
    "        return df['gini'].sum()\n",
    "\n",
    "    def normalized_weighted_gini(y_true: pd.DataFrame, y_pred: pd.DataFrame) -> float:\n",
    "        y_true_pred = y_true.rename(columns={'target': 'prediction'})\n",
    "        return weighted_gini(y_true, y_pred) / weighted_gini(y_true, y_true_pred)\n",
    "\n",
    "    g = normalized_weighted_gini(y_true, y_pred)\n",
    "    d = top_four_percent_captured(y_true, y_pred)\n",
    "\n",
    "    return 0.5 * (g + d),g,d"
   ]
  },
  {
   "cell_type": "code",
   "execution_count": 10,
   "id": "0066703f",
   "metadata": {},
   "outputs": [],
   "source": [
    "xgb=XGBClassifier(\n",
    "learning_rate =0.1,\n",
    "n_estimators=1000,\n",
    "max_depth=5,\n",
    "min_child_weight=1,\n",
    "gamma=0,\n",
    "subsample=0.8,\n",
    "colsample_bytree=0.8,\n",
    "objective= 'binary:logistic',\n",
    "nthread=4,\n",
    "scale_pos_weight=1,\n",
    "seed=27\n",
    ")"
   ]
  },
  {
   "cell_type": "code",
   "execution_count": 11,
   "id": "a8687813",
   "metadata": {},
   "outputs": [],
   "source": [
    "final_data=pd.read_csv('Final_Data.csv')\n",
    "req=final_data.columns\n",
    "req=req[1:-1]\n",
    "target=final_data['target']\n",
    "data_x=final_data[req]\n",
    "train_x,test_x,train_y,test_y=train_test_split(data_x,target,test_size=0.2,shuffle=True)"
   ]
  },
  {
   "cell_type": "code",
   "execution_count": 12,
   "id": "a89ad5cb",
   "metadata": {},
   "outputs": [
    {
     "data": {
      "text/plain": [
       "GridSearchCV(estimator=XGBClassifier(base_score=None, booster=None,\n",
       "                                     callbacks=None, colsample_bylevel=None,\n",
       "                                     colsample_bynode=None,\n",
       "                                     colsample_bytree=0.8,\n",
       "                                     early_stopping_rounds=None,\n",
       "                                     enable_categorical=False, eval_metric=None,\n",
       "                                     gamma=0, gpu_id=None, grow_policy=None,\n",
       "                                     importance_type=None,\n",
       "                                     interaction_constraints=None,\n",
       "                                     learning_rate=0.1, max_bin=None,\n",
       "                                     max_cat_to_onehot=None,\n",
       "                                     max_delta_step=None, max_depth=5,\n",
       "                                     max_leaves=None, min_child_weight=1,\n",
       "                                     missing=nan, monotone_constraints=None,\n",
       "                                     n_estimators=1000, n_jobs=None, nthread=4,\n",
       "                                     num_parallel_tree=None, predictor=None,\n",
       "                                     random_state=None, reg_alpha=None, ...),\n",
       "             param_grid={'max_depth': [4, 5, 6],\n",
       "                         'n_estimators': [500, 800, 1000]})"
      ]
     },
     "execution_count": 12,
     "metadata": {},
     "output_type": "execute_result"
    }
   ],
   "source": [
    "from sklearn.model_selection import GridSearchCV\n",
    "params = {\n",
    "    'max_depth': [4,5,6],\n",
    "    'n_estimators': [500,800,1000]\n",
    "}\n",
    "best_param=GridSearchCV(estimator=xgb,\n",
    "                       param_grid=params)\n",
    "best_param.fit(train_x,train_y)"
   ]
  },
  {
   "cell_type": "code",
   "execution_count": 13,
   "id": "fef4f646",
   "metadata": {},
   "outputs": [
    {
     "data": {
      "text/plain": [
       "XGBClassifier(base_score=0.5, booster='gbtree', callbacks=None,\n",
       "              colsample_bylevel=1, colsample_bynode=1, colsample_bytree=0.8,\n",
       "              early_stopping_rounds=None, enable_categorical=False,\n",
       "              eval_metric=None, gamma=0, gpu_id=-1, grow_policy='depthwise',\n",
       "              importance_type=None, interaction_constraints='',\n",
       "              learning_rate=0.1, max_bin=256, max_cat_to_onehot=4,\n",
       "              max_delta_step=0, max_depth=4, max_leaves=0, min_child_weight=1,\n",
       "              missing=nan, monotone_constraints='()', n_estimators=800,\n",
       "              n_jobs=4, nthread=4, num_parallel_tree=1, predictor='auto',\n",
       "              random_state=27, reg_alpha=0, ...)"
      ]
     },
     "execution_count": 13,
     "metadata": {},
     "output_type": "execute_result"
    }
   ],
   "source": [
    "best_param=best_param.best_estimator_\n",
    "best_param.fit(train_x,train_y)"
   ]
  },
  {
   "cell_type": "code",
   "execution_count": 14,
   "id": "1585364b",
   "metadata": {},
   "outputs": [],
   "source": [
    "import matplotlib.pyplot as plt"
   ]
  },
  {
   "cell_type": "code",
   "execution_count": 15,
   "id": "eac91614",
   "metadata": {},
   "outputs": [
    {
     "name": "stdout",
     "output_type": "stream",
     "text": [
      "The Accuracy Score is 0.8705504863130452\n",
      "The Precision is 0.7344329896907217\n",
      "The recall is 0.7335255354200988\n",
      "The f1 score is 0.7339789820729445\n",
      "The area under curve 0.9323097794343222\n"
     ]
    },
    {
     "data": {
      "text/plain": [
       "Text(0.5, 1.0, 'ROC Curve')"
      ]
     },
     "execution_count": 15,
     "metadata": {},
     "output_type": "execute_result"
    },
    {
     "data": {
      "image/png": "[encoded data removed]",
      "text/plain": [
       "<Figure size 640x480 with 1 Axes>"
      ]
     },
     "metadata": {},
     "output_type": "display_data"
    }
   ],
   "source": [
    "print(\"The Accuracy Score is {}\".format(accuracy_score(best_param.predict(test_x),test_y)))\n",
    "pre_recall_f1=precision_recall_fscore_support(test_y,best_param.predict(test_x),average='binary')\n",
    "print(\"The Precision is {}\".format(pre_recall_f1[0]))\n",
    "print(\"The recall is {}\".format(pre_recall_f1[1]))\n",
    "print(\"The f1 score is {}\".format(pre_recall_f1[2]))\n",
    "pred_proba_y=best_param.predict_proba(test_x)\n",
    "fpr, tpr, thresholds_roc = roc_curve(test_y,pred_proba_y[:,1])\n",
    "roc_auc = auc(fpr,tpr)\n",
    "print(\"The area under curve {}\".format(roc_auc))\n",
    "plt.plot(fpr,tpr)\n",
    "plt.xlabel(\"False Positive Rate\")\n",
    "plt.ylabel(\"True Positive Rate\")\n",
    "plt.title(\"ROC Curve\")"
   ]
  },
  {
   "cell_type": "code",
   "execution_count": 19,
   "id": "5f6ba0fb",
   "metadata": {
    "scrolled": true
   },
   "outputs": [
    {
     "name": "stderr",
     "output_type": "stream",
     "text": [
      "C:\\Users\\Devansh\\anaconda3\\lib\\site-packages\\sklearn\\utils\\deprecation.py:87: FutureWarning: Function plot_confusion_matrix is deprecated; Function `plot_confusion_matrix` is deprecated in 1.0 and will be removed in 1.2. Use one of the class methods: ConfusionMatrixDisplay.from_predictions or ConfusionMatrixDisplay.from_estimator.\n",
      "  warnings.warn(msg, category=FutureWarning)\n"
     ]
    },
    {
     "data": {
      "image/png": "[encoded data removed]",
      "text/plain": [
       "<Figure size 640x480 with 2 Axes>"
      ]
     },
     "metadata": {},
     "output_type": "display_data"
    }
   ],
   "source": [
    "from sklearn.metrics import confusion_matrix\n",
    "from sklearn.metrics import plot_confusion_matrix\n",
    "confusion_matrix(test_y,best_param.predict(test_x))\n",
    "m=plot_confusion_matrix(best_param,test_x,test_y, cmap=plt.cm.Blues)\n",
    "plt.show()"
   ]
  },
  {
   "cell_type": "code",
   "execution_count": 20,
   "id": "a79114e6",
   "metadata": {},
   "outputs": [],
   "source": [
    "test_y_num=np.array(test_y)\n",
    "df=pd.DataFrame(test_y_num,columns=['target'])\n",
    "df2=pd.DataFrame(pred_proba_y[:,1],columns=['prediction'])"
   ]
  },
  {
   "cell_type": "code",
   "execution_count": 21,
   "id": "5f8fa375",
   "metadata": {},
   "outputs": [
    {
     "name": "stdout",
     "output_type": "stream",
     "text": [
      "Gini coefficient 0.8646111430605519\n",
      "Top 4% capture 0.48702635914332787\n",
      "Final eval metric 0.6758187511019399\n"
     ]
    }
   ],
   "source": [
    "gd,g,d=amex_metric(df,df2)\n",
    "print(\"Gini coefficient {}\".format(g))\n",
    "print(\"Top 4% capture {}\".format(d))\n",
    "print(\"Final eval metric {}\".format(gd))"
   ]
  },
  {
   "cell_type": "code",
   "execution_count": 39,
   "id": "540ac613",
   "metadata": {},
   "outputs": [],
   "source": [
    "final_data=pd.read_csv('Final_Data_new.csv')\n",
    "req=final_data.columns\n",
    "req=req[2:-1]\n",
    "target=final_data['target']\n",
    "data_x=final_data[req]\n",
    "train_x,test_x,train_y,test_y=train_test_split(data_x,target,test_size=0.2)"
   ]
  },
  {
   "cell_type": "code",
   "execution_count": 40,
   "id": "1c19cb58",
   "metadata": {},
   "outputs": [],
   "source": [
    "from sklearn.model_selection import GridSearchCV\n",
    "params = {\n",
    "    'max_depth': [4,5,6],\n",
    "    'n_estimators': [500,800,1000]\n",
    "}\n",
    "best_param=GridSearchCV(estimator=xgb,\n",
    "                       param_grid=params)"
   ]
  },
  {
   "cell_type": "code",
   "execution_count": 41,
   "id": "4f55f6b0",
   "metadata": {},
   "outputs": [
    {
     "data": {
      "text/plain": [
       "GridSearchCV(estimator=XGBClassifier(base_score=None, booster=None,\n",
       "                                     callbacks=None, colsample_bylevel=None,\n",
       "                                     colsample_bynode=None,\n",
       "                                     colsample_bytree=0.8,\n",
       "                                     early_stopping_rounds=None,\n",
       "                                     enable_categorical=False, eval_metric=None,\n",
       "                                     gamma=0, gpu_id=None, grow_policy=None,\n",
       "                                     importance_type=None,\n",
       "                                     interaction_constraints=None,\n",
       "                                     learning_rate=0.1, max_bin=None,\n",
       "                                     max_cat_to_onehot=None,\n",
       "                                     max_delta_step=None, max_depth=5,\n",
       "                                     max_leaves=None, min_child_weight=1,\n",
       "                                     missing=nan, monotone_constraints=None,\n",
       "                                     n_estimators=1000, n_jobs=None, nthread=4,\n",
       "                                     num_parallel_tree=None, predictor=None,\n",
       "                                     random_state=None, reg_alpha=None, ...),\n",
       "             param_grid={'max_depth': [4, 5, 6],\n",
       "                         'n_estimators': [500, 800, 1000]})"
      ]
     },
     "execution_count": 41,
     "metadata": {},
     "output_type": "execute_result"
    }
   ],
   "source": [
    "best_param.fit(test_x,test_y)"
   ]
  },
  {
   "cell_type": "code",
   "execution_count": 42,
   "id": "8374f1f1",
   "metadata": {},
   "outputs": [
    {
     "data": {
      "text/plain": [
       "XGBClassifier(base_score=0.5, booster='gbtree', callbacks=None,\n",
       "              colsample_bylevel=1, colsample_bynode=1, colsample_bytree=0.8,\n",
       "              early_stopping_rounds=None, enable_categorical=False,\n",
       "              eval_metric=None, gamma=0, gpu_id=-1, grow_policy='depthwise',\n",
       "              importance_type=None, interaction_constraints='',\n",
       "              learning_rate=0.1, max_bin=256, max_cat_to_onehot=4,\n",
       "              max_delta_step=0, max_depth=4, max_leaves=0, min_child_weight=1,\n",
       "              missing=nan, monotone_constraints='()', n_estimators=500,\n",
       "              n_jobs=4, nthread=4, num_parallel_tree=1, predictor='auto',\n",
       "              random_state=27, reg_alpha=0, ...)"
      ]
     },
     "execution_count": 42,
     "metadata": {},
     "output_type": "execute_result"
    }
   ],
   "source": [
    "best_param=best_param.best_estimator_\n",
    "best_param.fit(train_x,train_y)"
   ]
  },
  {
   "cell_type": "code",
   "execution_count": 43,
   "id": "62f9b10d",
   "metadata": {},
   "outputs": [
    {
     "name": "stdout",
     "output_type": "stream",
     "text": [
      "The Accuracy Score is 0.8672415521909155\n",
      "The Precision is 0.7435146443514644\n",
      "The recall is 0.7142282958199357\n",
      "The f1 score is 0.7285772857728579\n",
      "The area under curve 0.9291888774870211\n"
     ]
    },
    {
     "data": {
      "text/plain": [
       "Text(0.5, 1.0, 'ROC Curve')"
      ]
     },
     "execution_count": 43,
     "metadata": {},
     "output_type": "execute_result"
    },
    {
     "data": {
      "image/png": "[encoded data removed]",
      "text/plain": [
       "<Figure size 640x480 with 1 Axes>"
      ]
     },
     "metadata": {},
     "output_type": "display_data"
    }
   ],
   "source": [
    "print(\"The Accuracy Score is {}\".format(accuracy_score(best_param.predict(test_x),test_y)))\n",
    "pre_recall_f1=precision_recall_fscore_support(test_y,best_param.predict(test_x),average='binary')\n",
    "print(\"The Precision is {}\".format(pre_recall_f1[0]))\n",
    "print(\"The recall is {}\".format(pre_recall_f1[1]))\n",
    "print(\"The f1 score is {}\".format(pre_recall_f1[2]))\n",
    "pred_proba_y=best_param.predict_proba(test_x)\n",
    "fpr, tpr, thresholds_roc = roc_curve(test_y,pred_proba_y[:,1])\n",
    "roc_auc = auc(fpr,tpr)\n",
    "print(\"The area under curve {}\".format(roc_auc))\n",
    "plt.plot(fpr,tpr)\n",
    "plt.xlabel(\"False Positive Rate\")\n",
    "plt.ylabel(\"True Positive Rate\")\n",
    "plt.title(\"ROC Curve\")"
   ]
  },
  {
   "cell_type": "code",
   "execution_count": 44,
   "id": "0167a21d",
   "metadata": {},
   "outputs": [],
   "source": [
    "test_y_num=np.array(test_y)\n",
    "df=pd.DataFrame(test_y_num,columns=['target'])\n",
    "df2=pd.DataFrame(pred_proba_y[:,1],columns=['prediction'])"
   ]
  },
  {
   "cell_type": "code",
   "execution_count": 47,
   "id": "784f5183",
   "metadata": {},
   "outputs": [
    {
     "name": "stdout",
     "output_type": "stream",
     "text": [
      "Gini coefficient 0.8583689273914131\n",
      "Top 4% capture 0.4754823151125402\n",
      "Final eval metric 0.6669256212519766\n"
     ]
    }
   ],
   "source": [
    "gd,g,d=amex_metric(df,df2)\n",
    "print(\"Gini coefficient {}\".format(g))\n",
    "print(\"Top 4% capture {}\".format(d))\n",
    "print(\"Final eval metric {}\".format(gd))"
   ]
  }
 ],
 "metadata": {
  "kernelspec": {
   "display_name": "Python 3 (ipykernel)",
   "language": "python",
   "name": "python3"
  },
  "language_info": {
   "codemirror_mode": {
    "name": "ipython",
    "version": 3
   },
   "file_extension": ".py",
   "mimetype": "text/x-python",
   "name": "python",
   "nbconvert_exporter": "python",
   "pygments_lexer": "ipython3",
   "version": "3.9.13"
  }
 },
 "nbformat": 4,
 "nbformat_minor": 5
}
